{
 "cells": [
  {
   "cell_type": "code",
   "execution_count": 11,
   "id": "5d3bd23a",
   "metadata": {},
   "outputs": [],
   "source": [
    "def classify_number(number):\n",
    "    j = 1\n",
    "    for i in range(number+1):\n",
    "        sum = 0\n",
    "        j = 1\n",
    "        while j < i:\n",
    "                if i % j == 0:\n",
    "                    sum += j\n",
    "                j+=1\n",
    "        if sum > i:\n",
    "            print(i,\": number is abundant\")\n",
    "        elif sum < i:\n",
    "            print(i,\": number is deficint\")\n",
    "        else:\n",
    "            print(i,\": number is perfect\")"
   ]
  },
  {
   "cell_type": "code",
   "execution_count": 12,
   "id": "f907a341",
   "metadata": {},
   "outputs": [
    {
     "name": "stdout",
     "output_type": "stream",
     "text": [
      "Enter the number Range : 40\n",
      "Results are following : \n",
      "0 : number is perfect\n",
      "1 : number is deficint\n",
      "2 : number is deficint\n",
      "3 : number is deficint\n",
      "4 : number is deficint\n",
      "5 : number is deficint\n",
      "6 : number is perfect\n",
      "7 : number is deficint\n",
      "8 : number is deficint\n",
      "9 : number is deficint\n",
      "10 : number is deficint\n",
      "11 : number is deficint\n",
      "12 : number is abundant\n",
      "13 : number is deficint\n",
      "14 : number is deficint\n",
      "15 : number is deficint\n",
      "16 : number is deficint\n",
      "17 : number is deficint\n",
      "18 : number is abundant\n",
      "19 : number is deficint\n",
      "20 : number is abundant\n",
      "21 : number is deficint\n",
      "22 : number is deficint\n",
      "23 : number is deficint\n",
      "24 : number is abundant\n",
      "25 : number is deficint\n",
      "26 : number is deficint\n",
      "27 : number is deficint\n",
      "28 : number is perfect\n",
      "29 : number is deficint\n",
      "30 : number is abundant\n",
      "31 : number is deficint\n",
      "32 : number is deficint\n",
      "33 : number is deficint\n",
      "34 : number is deficint\n",
      "35 : number is deficint\n",
      "36 : number is abundant\n",
      "37 : number is deficint\n",
      "38 : number is deficint\n",
      "39 : number is deficint\n",
      "40 : number is abundant\n"
     ]
    }
   ],
   "source": [
    "number = int(input(\"Enter the number Range : \"))\n",
    "print(\"Results are following : \")\n",
    "classify_number(number)"
   ]
  }
 ],
 "metadata": {
  "kernelspec": {
   "display_name": "Python 3 (ipykernel)",
   "language": "python",
   "name": "python3"
  },
  "language_info": {
   "codemirror_mode": {
    "name": "ipython",
    "version": 3
   },
   "file_extension": ".py",
   "mimetype": "text/x-python",
   "name": "python",
   "nbconvert_exporter": "python",
   "pygments_lexer": "ipython3",
   "version": "3.8.13"
  }
 },
 "nbformat": 4,
 "nbformat_minor": 5
}
