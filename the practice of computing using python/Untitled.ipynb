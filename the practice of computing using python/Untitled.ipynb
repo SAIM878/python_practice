{
 "cells": [
  {
   "cell_type": "markdown",
   "id": "9f1c59f5",
   "metadata": {},
   "source": [
    "# wealthy cusomter"
   ]
  },
  {
   "cell_type": "code",
   "execution_count": 20,
   "id": "df65570e",
   "metadata": {
    "scrolled": true
   },
   "outputs": [
    {
     "name": "stdout",
     "output_type": "stream",
     "text": [
      "1\n"
     ]
    }
   ],
   "source": [
    "arr = [[7,1,3],[2,8,7],[1,9,5]]\n",
    "wealthy_customer = 0\n",
    "w_sum = 0\n",
    "i = 0\n",
    "for customer in arr:\n",
    "    if sum(customer) > w_sum:\n",
    "        wealthy_customer = i\n",
    "        w_sum = sum(customer) \n",
    "    i+=1\n",
    "print(wealthy_customer)"
   ]
  },
  {
   "cell_type": "code",
   "execution_count": 21,
   "id": "28742ada",
   "metadata": {},
   "outputs": [
    {
     "ename": "NameError",
     "evalue": "name 'List' is not defined",
     "output_type": "error",
     "traceback": [
      "\u001b[1;31m---------------------------------------------------------------------------\u001b[0m",
      "\u001b[1;31mNameError\u001b[0m                                 Traceback (most recent call last)",
      "Input \u001b[1;32mIn [21]\u001b[0m, in \u001b[0;36m<cell line: 1>\u001b[1;34m()\u001b[0m\n\u001b[1;32m----> 1\u001b[0m \u001b[38;5;28;01mclass\u001b[39;00m \u001b[38;5;21;01mSolution\u001b[39;00m:\n\u001b[0;32m      2\u001b[0m     \u001b[38;5;28;01mdef\u001b[39;00m \u001b[38;5;21mfizzBuzz\u001b[39m(\u001b[38;5;28mself\u001b[39m, n: \u001b[38;5;28mint\u001b[39m) \u001b[38;5;241m-\u001b[39m\u001b[38;5;241m>\u001b[39m List[\u001b[38;5;28mstr\u001b[39m]:\n\u001b[0;32m      3\u001b[0m         l \u001b[38;5;241m=\u001b[39m []\n",
      "Input \u001b[1;32mIn [21]\u001b[0m, in \u001b[0;36mSolution\u001b[1;34m()\u001b[0m\n\u001b[0;32m      1\u001b[0m \u001b[38;5;28;01mclass\u001b[39;00m \u001b[38;5;21;01mSolution\u001b[39;00m:\n\u001b[1;32m----> 2\u001b[0m     \u001b[38;5;28;01mdef\u001b[39;00m \u001b[38;5;21mfizzBuzz\u001b[39m(\u001b[38;5;28mself\u001b[39m, n: \u001b[38;5;28mint\u001b[39m) \u001b[38;5;241m-\u001b[39m\u001b[38;5;241m>\u001b[39m \u001b[43mList\u001b[49m[\u001b[38;5;28mstr\u001b[39m]:\n\u001b[0;32m      3\u001b[0m         l \u001b[38;5;241m=\u001b[39m []\n\u001b[0;32m      4\u001b[0m         i\u001b[38;5;241m=\u001b[39m\u001b[38;5;241m0\u001b[39m\n",
      "\u001b[1;31mNameError\u001b[0m: name 'List' is not defined"
     ]
    }
   ],
   "source": [
    "def fizzBuzz(self, n: int) -> List[str]:\n",
    "        l = []\n",
    "        i=0\n",
    "        for i in range(n+1):\n",
    "            print(i)\n",
    "            if i%3 == 0 :\n",
    "                l.append(\"Fizz\")\n",
    "            elif i%5 == 0:\n",
    "                l.append(\"Buzz\")\n",
    "            elif i%3 == 0 and i%5 ==0:\n",
    "                l.append(\"FizzBuzz\")\n",
    "            else :\n",
    "                l.append(i)\n",
    "        return l"
   ]
  }
 ],
 "metadata": {
  "kernelspec": {
   "display_name": "Python 3 (ipykernel)",
   "language": "python",
   "name": "python3"
  },
  "language_info": {
   "codemirror_mode": {
    "name": "ipython",
    "version": 3
   },
   "file_extension": ".py",
   "mimetype": "text/x-python",
   "name": "python",
   "nbconvert_exporter": "python",
   "pygments_lexer": "ipython3",
   "version": "3.8.13"
  }
 },
 "nbformat": 4,
 "nbformat_minor": 5
}
