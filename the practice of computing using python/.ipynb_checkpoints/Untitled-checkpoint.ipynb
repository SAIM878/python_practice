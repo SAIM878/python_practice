{
 "cells": [
  {
   "cell_type": "code",
   "execution_count": 20,
   "id": "0d55eb4d",
   "metadata": {
    "scrolled": true
   },
   "outputs": [
    {
     "name": "stdout",
     "output_type": "stream",
     "text": [
      "1\n"
     ]
    }
   ],
   "source": [
    "arr = [[7,1,3],[2,8,7],[1,9,5]]\n",
    "wealthy_customer = 0\n",
    "w_sum = 0\n",
    "i = 0\n",
    "for customer in arr:\n",
    "    if sum(customer) > w_sum:\n",
    "        wealthy_customer = i\n",
    "        w_sum = sum(customer) \n",
    "    i+=1\n",
    "print(wealthy_customer)"
   ]
  }
 ],
 "metadata": {
  "kernelspec": {
   "display_name": "Python 3 (ipykernel)",
   "language": "python",
   "name": "python3"
  },
  "language_info": {
   "codemirror_mode": {
    "name": "ipython",
    "version": 3
   },
   "file_extension": ".py",
   "mimetype": "text/x-python",
   "name": "python",
   "nbconvert_exporter": "python",
   "pygments_lexer": "ipython3",
   "version": "3.8.13"
  }
 },
 "nbformat": 4,
 "nbformat_minor": 5
}
