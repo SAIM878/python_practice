{
 "cells": [
  {
   "cell_type": "code",
   "execution_count": 4,
   "id": "c6a80d9c",
   "metadata": {},
   "outputs": [
    {
     "name": "stdout",
     "output_type": "stream",
     "text": [
      "Enter the number7\n",
      "Count is :  4\n",
      "Number is : 0\n"
     ]
    }
   ],
   "source": [
    "num = int(input(\"Enter the number\"))\n",
    "count = 0\n",
    "while num > 0:\n",
    "    if num%2 == 0:\n",
    "        num = num//2\n",
    "    elif num%3 == 0:\n",
    "        num = num//3\n",
    "    else:\n",
    "        num = num-1\n",
    "    count = count +1\n",
    "print(\"Count is : \",count)\n",
    "print(\"Number is :\",num)"
   ]
  },
  {
   "cell_type": "code",
   "execution_count": 4,
   "id": "39cde279",
   "metadata": {},
   "outputs": [
    {
     "name": "stdout",
     "output_type": "stream",
     "text": [
      "1  \n",
      "4  \n",
      "7  \n",
      "10  \n"
     ]
    }
   ],
   "source": [
    "for i in range(1,11,3):\n",
    "    print(i,\" \")"
   ]
  },
  {
   "cell_type": "code",
   "execution_count": 19,
   "id": "dcda2f68",
   "metadata": {
    "scrolled": true
   },
   "outputs": [
    {
     "name": "stdout",
     "output_type": "stream",
     "text": [
      "Enter the number5\n",
      "16   8   4   2   1   "
     ]
    }
   ],
   "source": [
    "number = int(input(\"Enter the number\"))\n",
    "\n",
    "while number > 1:\n",
    "    if number % 2 == 0:\n",
    "        number = number//2\n",
    "    else:\n",
    "        number = number*3+1\n",
    "    print(number,\" \",end=\" \")"
   ]
  },
  {
   "cell_type": "code",
   "execution_count": 20,
   "id": "6ec0192a",
   "metadata": {},
   "outputs": [
    {
     "name": "stdout",
     "output_type": "stream",
     "text": [
      "59\n"
     ]
    }
   ],
   "source": [
    "count = 0\n",
    "for i in range(1000):\n",
    "    if i%17 == 0:\n",
    "        count = count+1\n",
    "print(count)"
   ]
  },
  {
   "cell_type": "code",
   "execution_count": 22,
   "id": "cebadb6f",
   "metadata": {},
   "outputs": [
    {
     "name": "stdout",
     "output_type": "stream",
     "text": [
      "2\n",
      "0\n",
      "4\n",
      "2\n"
     ]
    }
   ],
   "source": [
    "x = 0\n",
    "y = 2\n",
    "z=4\n",
    "print(x or y)\n",
    "print(x and y)\n",
    "print(x or z)\n",
    "print((x and y)or(y or z))"
   ]
  },
  {
   "cell_type": "code",
   "execution_count": 23,
   "id": "43fdc356",
   "metadata": {},
   "outputs": [
    {
     "name": "stdout",
     "output_type": "stream",
     "text": [
      "10   36\n"
     ]
    }
   ],
   "source": [
    "i = 1\n",
    "j = 0\n",
    "while i<10:\n",
    "    i+=1\n",
    "    j+=2**2\n",
    "print(i,\" \",j)"
   ]
  },
  {
   "cell_type": "code",
   "execution_count": 29,
   "id": "984196f7",
   "metadata": {
    "scrolled": true
   },
   "outputs": [
    {
     "name": "stdout",
     "output_type": "stream",
     "text": [
      "Enter the knuts493\n",
      "17 1\n"
     ]
    }
   ],
   "source": [
    "knuts = int(input(\"Enter the knuts\"))\n",
    "sickle = knuts //29\n",
    "gaellon = sickle//17\n",
    "if sickle <= 0 :\n",
    "    sickle = 1\n",
    "print(sickle,gaellon)"
   ]
  },
  {
   "cell_type": "code",
   "execution_count": null,
   "id": "6b82eb48",
   "metadata": {},
   "outputs": [
    {
     "name": "stdout",
     "output_type": "stream",
     "text": [
      "Enter the number5\n",
      "please enter again\n"
     ]
    }
   ],
   "source": [
    "def type_checking(number):\n",
    "    if number is int:\n",
    "        return True\n",
    "    else:\n",
    "        return 0\n",
    "\n",
    "while(1):\n",
    "    number = input(\"Enter the number\")\n",
    "    if type_checking(number) == True:\n",
    "        print(\"Type is ok\")\n",
    "        break\n",
    "    print(\"please enter again\")"
   ]
  }
 ],
 "metadata": {
  "kernelspec": {
   "display_name": "Python 3 (ipykernel)",
   "language": "python",
   "name": "python3"
  },
  "language_info": {
   "codemirror_mode": {
    "name": "ipython",
    "version": 3
   },
   "file_extension": ".py",
   "mimetype": "text/x-python",
   "name": "python",
   "nbconvert_exporter": "python",
   "pygments_lexer": "ipython3",
   "version": "3.8.13"
  }
 },
 "nbformat": 4,
 "nbformat_minor": 5
}
