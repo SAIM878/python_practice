{
 "cells": [
  {
   "cell_type": "code",
   "execution_count": 1,
   "id": "c2265420",
   "metadata": {},
   "outputs": [
    {
     "data": {
      "text/plain": [
       "True"
      ]
     },
     "execution_count": 1,
     "metadata": {},
     "output_type": "execute_result"
    }
   ],
   "source": [
    "'ABC' < 'ab'"
   ]
  },
  {
   "cell_type": "code",
   "execution_count": 6,
   "id": "1991a27e",
   "metadata": {},
   "outputs": [
    {
     "data": {
      "text/plain": [
       "'jello'"
      ]
     },
     "execution_count": 6,
     "metadata": {},
     "output_type": "execute_result"
    }
   ],
   "source": [
    "my_str = 'Hello'\n",
    "my_str = 'j'+my_str[1:]\n",
    "my_str"
   ]
  },
  {
   "cell_type": "code",
   "execution_count": 8,
   "id": "916dd360",
   "metadata": {},
   "outputs": [
    {
     "name": "stdout",
     "output_type": "stream",
     "text": [
      "pie : 3.14\n"
     ]
    }
   ],
   "source": [
    "import math\n",
    "print(\"pie : {:.2f}\".format(math.pi))"
   ]
  },
  {
   "cell_type": "code",
   "execution_count": 11,
   "id": "81c05eff",
   "metadata": {},
   "outputs": [
    {
     "name": "stdout",
     "output_type": "stream",
     "text": [
      "Enter the stringabc\n",
      "not\n"
     ]
    }
   ],
   "source": [
    "my_str = input(\"Enter the string\")\n",
    "if my_str == my_str[::-1]:\n",
    "    print(\"palindrome\")\n",
    "else:\n",
    "    print(\"not\")"
   ]
  },
  {
   "cell_type": "code",
   "execution_count": 13,
   "id": "4047d708",
   "metadata": {},
   "outputs": [
    {
     "name": "stdout",
     "output_type": "stream",
     "text": [
      "enter the strigali\n"
     ]
    },
    {
     "data": {
      "text/plain": [
       "'l'"
      ]
     },
     "execution_count": 13,
     "metadata": {},
     "output_type": "execute_result"
    }
   ],
   "source": [
    "string = input(\"enter the strig\")\n",
    "middle = len(string)//2\n",
    "string[middle]"
   ]
  },
  {
   "cell_type": "code",
   "execution_count": 15,
   "id": "515ce918",
   "metadata": {},
   "outputs": [
    {
     "name": "stdout",
     "output_type": "stream",
     "text": [
      "enter the strigindia\n"
     ]
    },
    {
     "data": {
      "text/plain": [
       "'in'"
      ]
     },
     "execution_count": 15,
     "metadata": {},
     "output_type": "execute_result"
    }
   ],
   "source": [
    "string = input(\"enter the strig\")\n",
    "middle = len(string)//2\n",
    "string[:middle]"
   ]
  },
  {
   "cell_type": "code",
   "execution_count": 16,
   "id": "f68656de",
   "metadata": {},
   "outputs": [
    {
     "name": "stdout",
     "output_type": "stream",
     "text": [
      "enter the strigindia\n"
     ]
    },
    {
     "data": {
      "text/plain": [
       "'ia'"
      ]
     },
     "execution_count": 16,
     "metadata": {},
     "output_type": "execute_result"
    }
   ],
   "source": [
    "string = input(\"enter the strig\")\n",
    "middle = len(string)//2\n",
    "string[middle+1:]"
   ]
  },
  {
   "cell_type": "code",
   "execution_count": 21,
   "id": "67a1fab3",
   "metadata": {},
   "outputs": [
    {
     "name": "stdout",
     "output_type": "stream",
     "text": [
      "Earth     mm\n",
      "Earth     mm\n",
      " Earth     mm\n"
     ]
    }
   ],
   "source": [
    "s = ' Earth     mm'\n",
    "print(s.strip())\n",
    "print(s.lstrip())\n",
    "print(s.rstrip())"
   ]
  },
  {
   "cell_type": "code",
   "execution_count": 25,
   "id": "9ecad554",
   "metadata": {},
   "outputs": [
    {
     "name": "stdout",
     "output_type": "stream",
     "text": [
      "\n"
     ]
    }
   ],
   "source": [
    "s = \"zxcvbnmnknfkdnf\"\n",
    "print(s[2:8:-2])"
   ]
  },
  {
   "cell_type": "code",
   "execution_count": 27,
   "id": "d841595c",
   "metadata": {},
   "outputs": [
    {
     "name": "stdout",
     "output_type": "stream",
     "text": [
      "o\n",
      "i\n",
      "u\n",
      "y\n",
      "t\n",
      "r\n",
      "e\n",
      "w\n",
      "d\n",
      "v\n",
      "n\n",
      "m\n"
     ]
    }
   ],
   "source": [
    "s = \"oiuytrewdvnm\"\n",
    "for i in s:\n",
    "    print(i)"
   ]
  },
  {
   "cell_type": "code",
   "execution_count": 29,
   "id": "bd6cab4c",
   "metadata": {
    "scrolled": true
   },
   "outputs": [
    {
     "data": {
      "text/plain": [
       "['a', 'b', 'i', 'l']"
      ]
     },
     "execution_count": 29,
     "metadata": {},
     "output_type": "execute_result"
    }
   ],
   "source": [
    "name = sorted(\"bali\")\n",
    "name"
   ]
  },
  {
   "cell_type": "code",
   "execution_count": 30,
   "id": "c5cf30cc",
   "metadata": {},
   "outputs": [
    {
     "data": {
      "text/plain": [
       "'Tophat'"
      ]
     },
     "execution_count": 30,
     "metadata": {},
     "output_type": "execute_result"
    }
   ],
   "source": [
    "s4 = \"TopHat\"\n",
    "s4.title()"
   ]
  },
  {
   "cell_type": "code",
   "execution_count": 35,
   "id": "949fb30d",
   "metadata": {},
   "outputs": [
    {
     "name": "stdout",
     "output_type": "stream",
     "text": [
      "abcsaim\n"
     ]
    }
   ],
   "source": [
    "s = \"@#$!abc saim\"\n",
    "b = []\n",
    "for i in s:\n",
    "    if i.isalpha():\n",
    "        b.append(i)\n",
    "b =\"\".join(b)\n",
    "print(b)"
   ]
  },
  {
   "cell_type": "code",
   "execution_count": 36,
   "id": "21697691",
   "metadata": {},
   "outputs": [
    {
     "name": "stdout",
     "output_type": "stream",
     "text": [
      "*\n",
      "*\n",
      "*\n",
      "*\n",
      "*\n",
      "*\n",
      "*\n",
      "*\n",
      "*\n",
      "*\n",
      "*\n",
      "*\n",
      "*\n",
      "*\n",
      "*\n",
      "*\n",
      "*\n",
      "*\n",
      "*\n",
      "*\n",
      "*\n",
      "*\n",
      "*\n",
      "*\n",
      "*\n",
      "*\n",
      "*\n",
      "*\n",
      "*\n",
      "*\n",
      "*\n",
      "*\n",
      "*\n",
      "*\n",
      "*\n",
      "*\n",
      "*\n",
      "*\n",
      "*\n",
      "*\n",
      "*\n",
      "*\n",
      "*\n",
      "*\n",
      "*\n",
      "*\n",
      "*\n",
      "*\n",
      "*\n",
      "*\n",
      "*\n",
      "*\n",
      "*\n",
      "*\n",
      "*\n",
      "*\n",
      "*\n",
      "*\n",
      "*\n",
      "*\n",
      "*\n",
      "*\n",
      "*\n",
      "*\n",
      "*\n",
      "*\n",
      "*\n",
      "*\n",
      "*\n",
      "*\n",
      "*\n",
      "*\n",
      "*\n",
      "*\n",
      "*\n",
      "*\n",
      "*\n",
      "*\n",
      "*\n",
      "*\n",
      "\n"
     ]
    }
   ],
   "source": [
    "line = '*\\n' *80\n",
    "print(line)"
   ]
  },
  {
   "cell_type": "code",
   "execution_count": 39,
   "id": "5ea115f5",
   "metadata": {},
   "outputs": [
    {
     "name": "stdout",
     "output_type": "stream",
     "text": [
      "Enter the stringsaim \n",
      "Enter the %age25\n",
      "\n"
     ]
    }
   ],
   "source": [
    "s = input(\"Enter the string\")\n",
    "i = int(input(\"Enter the %age\"))\n",
    "p = (i//100)*(len(s))\n",
    "print(s[:p])"
   ]
  },
  {
   "cell_type": "code",
   "execution_count": null,
   "id": "b4bf65e7",
   "metadata": {},
   "outputs": [],
   "source": [
    "string = 'abababababababab'\n",
    "s = []\n",
    "for i in string:\n",
    "    if i == 'b':\n",
    "        s.append(i)\n",
    "s = \"\".join(s)\n",
    "pr"
   ]
  }
 ],
 "metadata": {
  "kernelspec": {
   "display_name": "Python 3 (ipykernel)",
   "language": "python",
   "name": "python3"
  },
  "language_info": {
   "codemirror_mode": {
    "name": "ipython",
    "version": 3
   },
   "file_extension": ".py",
   "mimetype": "text/x-python",
   "name": "python",
   "nbconvert_exporter": "python",
   "pygments_lexer": "ipython3",
   "version": "3.8.13"
  }
 },
 "nbformat": 4,
 "nbformat_minor": 5
}
