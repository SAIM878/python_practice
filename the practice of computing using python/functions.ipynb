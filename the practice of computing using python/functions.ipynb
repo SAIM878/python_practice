{
 "cells": [
  {
   "cell_type": "code",
   "execution_count": 13,
   "id": "87955917",
   "metadata": {},
   "outputs": [
    {
     "name": "stdout",
     "output_type": "stream",
     "text": [
      "Enter the number 1 : 3\n",
      "Enter the number 2 : 7\n",
      "15\n"
     ]
    }
   ],
   "source": [
    "def prime(start,end):\n",
    "    sum = 0\n",
    "    while start <=end :\n",
    "        i = 2\n",
    "        flag =0\n",
    "        while i <= start//2:\n",
    "            if start%i == 0:\n",
    "                flag = 1\n",
    "                break\n",
    "            i+=1\n",
    "        if flag == 0:\n",
    "            sum+=start\n",
    "        start+=1\n",
    "    return sum\n",
    "start = int(input(\"Enter the number 1 : \"))\n",
    "end = int(input(\"Enter the number 2 : \"))\n",
    "print(prime(start,end))"
   ]
  },
  {
   "cell_type": "code",
   "execution_count": 17,
   "id": "2819f764",
   "metadata": {},
   "outputs": [
    {
     "name": "stdout",
     "output_type": "stream",
     "text": [
      "Enter the string : saim%\n",
      "vowel counts :  2\n",
      "consonants counts :  2\n"
     ]
    }
   ],
   "source": [
    "def vowel_consonats_count(string):\n",
    "    vowels = \"aeiou\"\n",
    "    v_c = 0\n",
    "    c_c = 0\n",
    "    for char in string:\n",
    "        if char in vowels and char.isalpha():\n",
    "            v_c+=1\n",
    "        elif char.isalpha():\n",
    "            c_c+=1\n",
    "    print(\"vowel counts : \",v_c)\n",
    "    print(\"consonants counts : \",c_c)\n",
    "string = input(\"Enter the string : \")\n",
    "vowel_consonats_count(string)"
   ]
  },
  {
   "cell_type": "code",
   "execution_count": 24,
   "id": "dd2e4231",
   "metadata": {},
   "outputs": [
    {
     "name": "stdout",
     "output_type": "stream",
     "text": [
      "Enter the number5\n",
      "1\n",
      "2\n",
      "3\n",
      "5\n",
      "8\n"
     ]
    }
   ],
   "source": [
    "def feb(num):\n",
    "    num1 = 0\n",
    "    num2 = 1\n",
    "    next_num = num2\n",
    "    i = 1\n",
    "    while i<= num:\n",
    "        print(next_num)\n",
    "        i+=1\n",
    "        num1,num2 = num2,next_num\n",
    "        next_num = num1+num2\n",
    "        \n",
    "num = int(input(\"Enter the number\"))\n",
    "feb(num)"
   ]
  },
  {
   "cell_type": "code",
   "execution_count": 28,
   "id": "7fbab99f",
   "metadata": {},
   "outputs": [
    {
     "name": "stdout",
     "output_type": "stream",
     "text": [
      "Enter the stringW3Schools is optimized for learning and training. Examples might be simplified to improve reading and learning. Tutorials, references, and examples are constantly reviewed to avoid errors, but we cannot warrant full correctness of all content. While using W3Schools, you agree to have read and accepted our terms of use, cookie and privacy policy.\n",
      "Please enter only 20 words\n"
     ]
    }
   ],
   "source": [
    "def check_str(string):\n",
    "    count =0\n",
    "    for i in string:\n",
    "        if i == \" \":\n",
    "            count+=1\n",
    "    if count > 20:\n",
    "        print(\"Please enter only 20 words\")\n",
    "check_str(input(\"Enter the string\"))"
   ]
  }
 ],
 "metadata": {
  "kernelspec": {
   "display_name": "Python 3 (ipykernel)",
   "language": "python",
   "name": "python3"
  },
  "language_info": {
   "codemirror_mode": {
    "name": "ipython",
    "version": 3
   },
   "file_extension": ".py",
   "mimetype": "text/x-python",
   "name": "python",
   "nbconvert_exporter": "python",
   "pygments_lexer": "ipython3",
   "version": "3.8.13"
  }
 },
 "nbformat": 4,
 "nbformat_minor": 5
}
