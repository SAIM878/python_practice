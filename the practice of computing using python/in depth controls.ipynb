{
 "cells": [
  {
   "cell_type": "code",
   "execution_count": 4,
   "id": "c6a80d9c",
   "metadata": {},
   "outputs": [
    {
     "name": "stdout",
     "output_type": "stream",
     "text": [
      "Enter the number7\n",
      "Count is :  4\n",
      "Number is : 0\n"
     ]
    }
   ],
   "source": [
    "num = int(input(\"Enter the number\"))\n",
    "count = 0\n",
    "while num > 0:\n",
    "    if num%2 == 0:\n",
    "        num = num//2\n",
    "    elif num%3 == 0:\n",
    "        num = num//3\n",
    "    else:\n",
    "        num = num-1\n",
    "    count = count +1\n",
    "print(\"Count is : \",count)\n",
    "print(\"Number is :\",num)"
   ]
  },
  {
   "cell_type": "code",
   "execution_count": 4,
   "id": "39cde279",
   "metadata": {},
   "outputs": [
    {
     "name": "stdout",
     "output_type": "stream",
     "text": [
      "1  \n",
      "4  \n",
      "7  \n",
      "10  \n"
     ]
    }
   ],
   "source": [
    "for i in range(1,11,3):\n",
    "    print(i,\" \")"
   ]
  },
  {
   "cell_type": "code",
   "execution_count": 19,
   "id": "dcda2f68",
   "metadata": {
    "scrolled": true
   },
   "outputs": [
    {
     "name": "stdout",
     "output_type": "stream",
     "text": [
      "Enter the number5\n",
      "16   8   4   2   1   "
     ]
    }
   ],
   "source": [
    "number = int(input(\"Enter the number\"))\n",
    "\n",
    "while number > 1:\n",
    "    if number % 2 == 0:\n",
    "        number = number//2\n",
    "    else:\n",
    "        number = number*3+1\n",
    "    print(number,\" \",end=\" \")"
   ]
  },
  {
   "cell_type": "code",
   "execution_count": 20,
   "id": "6ec0192a",
   "metadata": {},
   "outputs": [
    {
     "name": "stdout",
     "output_type": "stream",
     "text": [
      "59\n"
     ]
    }
   ],
   "source": [
    "count = 0\n",
    "for i in range(1000):\n",
    "    if i%17 == 0:\n",
    "        count = count+1\n",
    "print(count)"
   ]
  },
  {
   "cell_type": "code",
   "execution_count": 22,
   "id": "cebadb6f",
   "metadata": {},
   "outputs": [
    {
     "name": "stdout",
     "output_type": "stream",
     "text": [
      "2\n",
      "0\n",
      "4\n",
      "2\n"
     ]
    }
   ],
   "source": [
    "x = 0\n",
    "y = 2\n",
    "z=4\n",
    "print(x or y)\n",
    "print(x and y)\n",
    "print(x or z)\n",
    "print((x and y)or(y or z))"
   ]
  },
  {
   "cell_type": "code",
   "execution_count": 23,
   "id": "43fdc356",
   "metadata": {},
   "outputs": [
    {
     "name": "stdout",
     "output_type": "stream",
     "text": [
      "10   36\n"
     ]
    }
   ],
   "source": [
    "i = 1\n",
    "j = 0\n",
    "while i<10:\n",
    "    i+=1\n",
    "    j+=2**2\n",
    "print(i,\" \",j)"
   ]
  },
  {
   "cell_type": "code",
   "execution_count": 29,
   "id": "984196f7",
   "metadata": {
    "scrolled": true
   },
   "outputs": [
    {
     "name": "stdout",
     "output_type": "stream",
     "text": [
      "Enter the knuts493\n",
      "17 1\n"
     ]
    }
   ],
   "source": [
    "knuts = int(input(\"Enter the knuts\"))\n",
    "sickle = knuts //29\n",
    "gaellon = sickle//17\n",
    "if sickle <= 0 :\n",
    "    sickle = 1\n",
    "print(sickle,gaellon)"
   ]
  },
  {
   "cell_type": "code",
   "execution_count": 10,
   "id": "6b82eb48",
   "metadata": {
    "scrolled": true
   },
   "outputs": [
    {
     "name": "stdout",
     "output_type": "stream",
     "text": [
      "Enter the number5\n",
      "please enter again\n",
      "Enter the numberi\n",
      "please enter again\n",
      "Enter the number90\n",
      "please enter again\n"
     ]
    },
    {
     "ename": "KeyboardInterrupt",
     "evalue": "Interrupted by user",
     "output_type": "error",
     "traceback": [
      "\u001b[1;31m---------------------------------------------------------------------------\u001b[0m",
      "\u001b[1;31mKeyboardInterrupt\u001b[0m                         Traceback (most recent call last)",
      "Input \u001b[1;32mIn [10]\u001b[0m, in \u001b[0;36m<cell line: 11>\u001b[1;34m()\u001b[0m\n\u001b[0;32m      9\u001b[0m         \u001b[38;5;28;01mreturn\u001b[39;00m \u001b[38;5;241m0\u001b[39m\n\u001b[0;32m     10\u001b[0m \u001b[38;5;28;01mwhile\u001b[39;00m(\u001b[38;5;241m1\u001b[39m):\n\u001b[1;32m---> 11\u001b[0m     number \u001b[38;5;241m=\u001b[39m \u001b[38;5;28;43minput\u001b[39;49m\u001b[43m(\u001b[49m\u001b[38;5;124;43m\"\u001b[39;49m\u001b[38;5;124;43mEnter the number\u001b[39;49m\u001b[38;5;124;43m\"\u001b[39;49m\u001b[43m)\u001b[49m\n\u001b[0;32m     12\u001b[0m     \u001b[38;5;28;01mif\u001b[39;00m type_checking(number) \u001b[38;5;241m==\u001b[39m \u001b[38;5;28;01mTrue\u001b[39;00m:\n\u001b[0;32m     13\u001b[0m         \u001b[38;5;28mprint\u001b[39m(\u001b[38;5;124m\"\u001b[39m\u001b[38;5;124mType is ok\u001b[39m\u001b[38;5;124m\"\u001b[39m)\n",
      "File \u001b[1;32m~\\miniconda3\\envs\\learningpython\\lib\\site-packages\\ipykernel\\kernelbase.py:1075\u001b[0m, in \u001b[0;36mKernel.raw_input\u001b[1;34m(self, prompt)\u001b[0m\n\u001b[0;32m   1071\u001b[0m \u001b[38;5;28;01mif\u001b[39;00m \u001b[38;5;129;01mnot\u001b[39;00m \u001b[38;5;28mself\u001b[39m\u001b[38;5;241m.\u001b[39m_allow_stdin:\n\u001b[0;32m   1072\u001b[0m     \u001b[38;5;28;01mraise\u001b[39;00m StdinNotImplementedError(\n\u001b[0;32m   1073\u001b[0m         \u001b[38;5;124m\"\u001b[39m\u001b[38;5;124mraw_input was called, but this frontend does not support input requests.\u001b[39m\u001b[38;5;124m\"\u001b[39m\n\u001b[0;32m   1074\u001b[0m     )\n\u001b[1;32m-> 1075\u001b[0m \u001b[38;5;28;01mreturn\u001b[39;00m \u001b[38;5;28;43mself\u001b[39;49m\u001b[38;5;241;43m.\u001b[39;49m\u001b[43m_input_request\u001b[49m\u001b[43m(\u001b[49m\n\u001b[0;32m   1076\u001b[0m \u001b[43m    \u001b[49m\u001b[38;5;28;43mstr\u001b[39;49m\u001b[43m(\u001b[49m\u001b[43mprompt\u001b[49m\u001b[43m)\u001b[49m\u001b[43m,\u001b[49m\n\u001b[0;32m   1077\u001b[0m \u001b[43m    \u001b[49m\u001b[38;5;28;43mself\u001b[39;49m\u001b[38;5;241;43m.\u001b[39;49m\u001b[43m_parent_ident\u001b[49m\u001b[43m[\u001b[49m\u001b[38;5;124;43m\"\u001b[39;49m\u001b[38;5;124;43mshell\u001b[39;49m\u001b[38;5;124;43m\"\u001b[39;49m\u001b[43m]\u001b[49m\u001b[43m,\u001b[49m\n\u001b[0;32m   1078\u001b[0m \u001b[43m    \u001b[49m\u001b[38;5;28;43mself\u001b[39;49m\u001b[38;5;241;43m.\u001b[39;49m\u001b[43mget_parent\u001b[49m\u001b[43m(\u001b[49m\u001b[38;5;124;43m\"\u001b[39;49m\u001b[38;5;124;43mshell\u001b[39;49m\u001b[38;5;124;43m\"\u001b[39;49m\u001b[43m)\u001b[49m\u001b[43m,\u001b[49m\n\u001b[0;32m   1079\u001b[0m \u001b[43m    \u001b[49m\u001b[43mpassword\u001b[49m\u001b[38;5;241;43m=\u001b[39;49m\u001b[38;5;28;43;01mFalse\u001b[39;49;00m\u001b[43m,\u001b[49m\n\u001b[0;32m   1080\u001b[0m \u001b[43m\u001b[49m\u001b[43m)\u001b[49m\n",
      "File \u001b[1;32m~\\miniconda3\\envs\\learningpython\\lib\\site-packages\\ipykernel\\kernelbase.py:1120\u001b[0m, in \u001b[0;36mKernel._input_request\u001b[1;34m(self, prompt, ident, parent, password)\u001b[0m\n\u001b[0;32m   1117\u001b[0m             \u001b[38;5;28;01mbreak\u001b[39;00m\n\u001b[0;32m   1118\u001b[0m \u001b[38;5;28;01mexcept\u001b[39;00m \u001b[38;5;167;01mKeyboardInterrupt\u001b[39;00m:\n\u001b[0;32m   1119\u001b[0m     \u001b[38;5;66;03m# re-raise KeyboardInterrupt, to truncate traceback\u001b[39;00m\n\u001b[1;32m-> 1120\u001b[0m     \u001b[38;5;28;01mraise\u001b[39;00m \u001b[38;5;167;01mKeyboardInterrupt\u001b[39;00m(\u001b[38;5;124m\"\u001b[39m\u001b[38;5;124mInterrupted by user\u001b[39m\u001b[38;5;124m\"\u001b[39m) \u001b[38;5;28;01mfrom\u001b[39;00m \u001b[38;5;28mNone\u001b[39m\n\u001b[0;32m   1121\u001b[0m \u001b[38;5;28;01mexcept\u001b[39;00m \u001b[38;5;167;01mException\u001b[39;00m:\n\u001b[0;32m   1122\u001b[0m     \u001b[38;5;28mself\u001b[39m\u001b[38;5;241m.\u001b[39mlog\u001b[38;5;241m.\u001b[39mwarning(\u001b[38;5;124m\"\u001b[39m\u001b[38;5;124mInvalid Message:\u001b[39m\u001b[38;5;124m\"\u001b[39m, exc_info\u001b[38;5;241m=\u001b[39m\u001b[38;5;28;01mTrue\u001b[39;00m)\n",
      "\u001b[1;31mKeyboardInterrupt\u001b[0m: Interrupted by user"
     ]
    }
   ],
   "source": [
    "def type_checking(number):\n",
    "    i=0\n",
    "    while i <= 99999:\n",
    "        if i == number:\n",
    "            break\n",
    "            return True\n",
    "        i+=1\n",
    "    else:\n",
    "        return 0\n",
    "while(1):\n",
    "    number = input(\"Enter the number\")\n",
    "    if type_checking(number) == True:\n",
    "        print(\"Type is ok\")\n",
    "        break\n",
    "    print(\"please enter again\")"
   ]
  },
  {
   "cell_type": "code",
   "execution_count": 24,
   "id": "0be81586",
   "metadata": {},
   "outputs": [
    {
     "name": "stdout",
     "output_type": "stream",
     "text": [
      "Enter the number5\n",
      "1  =  1\n",
      "1 + 2  =  3\n",
      "1 + 2 + 3  =  6\n",
      "1 + 2 + 3 + 4  =  10\n",
      "1 + 2 + 3 + 4 + 5  =  15\n"
     ]
    }
   ],
   "source": [
    "number = int(input(\"Enter the number\"))\n",
    "i = 1\n",
    "sum = 0\n",
    "while i <= number:\n",
    "    sum += i\n",
    "    j = 1\n",
    "    while j < i:\n",
    "        print(j,\"+\",end=\" \")\n",
    "        j+=1\n",
    "    print(i,\" = \",sum)\n",
    "    i+=1"
   ]
  },
  {
   "cell_type": "code",
   "execution_count": 3,
   "id": "fdb8e75e",
   "metadata": {
    "scrolled": true
   },
   "outputs": [
    {
     "name": "stdout",
     "output_type": "stream",
     "text": [
      "Enter the number greater then 2  20\n",
      "4.47213595499958\n",
      "2.114742526881128\n",
      "1.4542154334489537\n",
      "1.2059085510306964\n"
     ]
    }
   ],
   "source": [
    "import math\n",
    "number = int(input(\"Enter the number greater then 2  \"))\n",
    "if number <= 2:\n",
    "    print(\"Please Enter Valid number\")\n",
    "    exit()\n",
    "while number >= math.sqrt(2):\n",
    "    number = math.sqrt(number)\n",
    "    print(number)"
   ]
  },
  {
   "cell_type": "code",
   "execution_count": 2,
   "id": "44c013af",
   "metadata": {},
   "outputs": [
    {
     "name": "stdout",
     "output_type": "stream",
     "text": [
      "10  *  10  =  100\n"
     ]
    }
   ],
   "source": [
    "i = 10\n",
    "j = 10\n",
    "k = 100\n",
    "while i and j <= 99:\n",
    "    if i*j == k:\n",
    "        print(i,\" * \",j,\" = \",k)\n",
    "    i+=1\n",
    "    j+=1\n",
    "    k+=1"
   ]
  },
  {
   "cell_type": "code",
   "execution_count": 6,
   "id": "c3d4897c",
   "metadata": {},
   "outputs": [
    {
     "name": "stdout",
     "output_type": "stream",
     "text": [
      "Total grains  36893488147419103232\n",
      "In kilograms :  1881567895518374264782\n"
     ]
    }
   ],
   "source": [
    "grain = 1\n",
    "grains = 1\n",
    "i = 0\n",
    "while i<=64:\n",
    "    grain = grain*2\n",
    "    grains = grains*2 + 50\n",
    "    i+=1\n",
    "print(\"Total grains \",grain)\n",
    "print(\"In kilograms : \",grains)"
   ]
  },
  {
   "cell_type": "code",
   "execution_count": 39,
   "id": "c2416f8f",
   "metadata": {},
   "outputs": [
    {
     "name": "stdout",
     "output_type": "stream",
     "text": [
      "Enter the number 1 : 34\n",
      "Enter the number 2 : 19\n",
      "34   19\n",
      "68   9\n",
      "544   1\n",
      "Result is :  646\n"
     ]
    }
   ],
   "source": [
    "A = int(input(\"Enter the number 1 : \"))\n",
    "B = int(input(\"Enter the number 2 : \"))\n",
    "result = 0\n",
    "while B > 0:\n",
    "    if B%2 != 0:\n",
    "        result+=A\n",
    "        print(A,\" \",B)\n",
    "    A = A*2\n",
    "    B = B//2\n",
    "print(\"Result is : \",result)"
   ]
  },
  {
   "cell_type": "code",
   "execution_count": null,
   "id": "041faed2",
   "metadata": {},
   "outputs": [],
   "source": []
  }
 ],
 "metadata": {
  "kernelspec": {
   "display_name": "Python 3 (ipykernel)",
   "language": "python",
   "name": "python3"
  },
  "language_info": {
   "codemirror_mode": {
    "name": "ipython",
    "version": 3
   },
   "file_extension": ".py",
   "mimetype": "text/x-python",
   "name": "python",
   "nbconvert_exporter": "python",
   "pygments_lexer": "ipython3",
   "version": "3.8.13"
  }
 },
 "nbformat": 4,
 "nbformat_minor": 5
}
