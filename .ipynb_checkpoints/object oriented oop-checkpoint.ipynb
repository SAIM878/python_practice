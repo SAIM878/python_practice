{
 "cells": [
  {
   "cell_type": "code",
   "execution_count": 3,
   "id": "25f8c3a7",
   "metadata": {},
   "outputs": [],
   "source": [
    "class Atm:\n",
    "    def __init__(self):\n",
    "        self.__pin=\"\"\n",
    "        self.balance=0\n",
    "        #print(\"hello\")\n",
    "        self.menu()\n",
    "    def menu(self):\n",
    "        user_input = input(\"\"\"\n",
    "        How would you like to proceed.......\n",
    "        1.Enter 1 to create pin\n",
    "        2.Enter 2 to deposit\n",
    "        3.Enter 3 to check balance\n",
    "        4.Enter 4 to check withdraw\n",
    "        5.Enter 5 to Exit\n",
    "        \"\"\")\n",
    "        user_input = int(user_input)\n",
    "        if user_input == 1:\n",
    "            print(\"Create Pin\")\n",
    "            self.create_pin()\n",
    "        elif user_input == 2:\n",
    "            print(\"Deposit\")\n",
    "            self.deposit()\n",
    "        elif user_input == 3:\n",
    "            print(\"Check Balance\")\n",
    "            self.check_balance()\n",
    "        elif user_input == 4:\n",
    "            print(\"withdraw\")\n",
    "            self.withdraw()\n",
    "        else:\n",
    "            print(\"Exit\")\n",
    "            return\n",
    "        self.menu()\n",
    "    def create_pin(self):\n",
    "        self.__pin = input(\"Enter your pin\")\n",
    "        print(\"Pin inserted successfully\")\n",
    "    def deposit(self):\n",
    "        temp = input(\"Enter the pin\")\n",
    "        if temp == self.__pin:\n",
    "            print(\"Enter the ammount\")\n",
    "            ammount = int(input())\n",
    "            self.balance = self.balance +  ammount\n",
    "            print(\"Balance inserted successfully\")\n",
    "        else:\n",
    "            print(\"Enter the pin correctly\")\n",
    "    def withdraw(self):\n",
    "        temp = input(\"Enter the pin\")\n",
    "        if temp == self.__pin:\n",
    "            print(\"Enter the ammount\")\n",
    "            ammount = int(input())\n",
    "            if ammount <= self.balance:\n",
    "                self.balance = self.balance - ammount\n",
    "                print(\"Ammount withdraw successfully\")\n",
    "            else:\n",
    "                print(\"Your balnce is not sufficient\")\n",
    "        else:\n",
    "            print(\"Enter the pin correctly\")\n",
    "    def check_balance(self):\n",
    "        temp = input(\"Enter the pin\")\n",
    "        if temp == self__.pin:\n",
    "            print(\"Your balance is : \",self.balance)\n",
    "        else:\n",
    "            print(\"Enter the correct pin\")"
   ]
  },
  {
   "cell_type": "code",
   "execution_count": 4,
   "id": "8afe6b04",
   "metadata": {
    "scrolled": true
   },
   "outputs": [
    {
     "name": "stdout",
     "output_type": "stream",
     "text": [
      "\n",
      "        How would you like to proceed.......\n",
      "        1.Enter 1 to create pin\n",
      "        2.Enter 2 to deposit\n",
      "        3.Enter 3 to check balance\n",
      "        4.Enter 4 to check withdraw\n",
      "        5.Enter 5 to Exit\n",
      "        5\n"
     ]
    }
   ],
   "source": [
    "a = Atm()"
   ]
  },
  {
   "cell_type": "code",
   "execution_count": 54,
   "id": "4e838d39",
   "metadata": {},
   "outputs": [
    {
     "name": "stdout",
     "output_type": "stream",
     "text": [
      "41/21\n"
     ]
    }
   ],
   "source": [
    "class fraction:\n",
    "    def __init__(self,n,d):\n",
    "        self.num = n\n",
    "        self.dnum = d\n",
    "    def __str__(self):\n",
    "        print(\"hello\")\n",
    "        return \"{}/{}\".format(self.num,self.dnum)\n",
    "    def __add__(self,other):\n",
    "        dnum = self.dnum*other.dnum\n",
    "        self.num = self.num * other.dnum\n",
    "        other.num = other.num * self.dnum\n",
    "        num = self.num + other.num\n",
    "        return \"{}/{}\".format(num,dnum)\n",
    "f = fraction(2,7)\n",
    "g = fraction(5,3)\n",
    "print(f+g)"
   ]
  }
 ],
 "metadata": {
  "kernelspec": {
   "display_name": "Python 3 (ipykernel)",
   "language": "python",
   "name": "python3"
  },
  "language_info": {
   "codemirror_mode": {
    "name": "ipython",
    "version": 3
   },
   "file_extension": ".py",
   "mimetype": "text/x-python",
   "name": "python",
   "nbconvert_exporter": "python",
   "pygments_lexer": "ipython3",
   "version": "3.8.13"
  }
 },
 "nbformat": 4,
 "nbformat_minor": 5
}
